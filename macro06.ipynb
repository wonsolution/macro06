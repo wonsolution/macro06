{
 "metadata": {
  "language_info": {
   "codemirror_mode": {
    "name": "ipython",
    "version": 3
   },
   "file_extension": ".py",
   "mimetype": "text/x-python",
   "name": "python",
   "nbconvert_exporter": "python",
   "pygments_lexer": "ipython3",
   "version": "3.6.2-final"
  },
  "orig_nbformat": 2,
  "kernelspec": {
   "name": "python3",
   "display_name": "Python 3",
   "language": "python"
  }
 },
 "nbformat": 4,
 "nbformat_minor": 2,
 "cells": [
  {
   "cell_type": "code",
   "execution_count": 1,
   "metadata": {},
   "outputs": [
    {
     "output_type": "stream",
     "name": "stdout",
     "text": [
      "(array([], dtype=int64), array([], dtype=int64))\n"
     ]
    }
   ],
   "source": [
    "import pyautogui\n",
    "import cv2\n",
    "import numpy as np\n",
    "from time import sleep\n",
    "\n",
    "# pyautogui.screenshot('seat.png', region=(90,220,530,400))\n",
    "pyautogui.screenshot('seat.png')\n",
    "\n",
    "#pyautogui.screenshot('full.png') #풀스크린샷\n",
    "#pyautogui.screenshot('저장위치 및 파일 명', region=(캡쳐시작x좌표,캡쳐시작y좌표,캡쳐끝x,캡쳐끝y))\n",
    "\n",
    "\n",
    "template = cv2.imread('seat.png')\n",
    "seat_r = cv2.imread('VIP_R.png')\n",
    "w, h = template.shape[:-1]\n",
    "\n",
    "res = cv2.matchTemplate(template, seat_r, cv2.TM_CCOEFF_NORMED)\n",
    "threshold = 0.9\n",
    "loc = np.where(res >= threshold)\n",
    "print(loc)\n"
   ]
  },
  {
   "cell_type": "code",
   "execution_count": 28,
   "metadata": {},
   "outputs": [
    {
     "output_type": "stream",
     "name": "stdout",
     "text": [
      "(216, 583)\n",
      "(216, 641)\n",
      "(245, 641)\n",
      "(260, 641)\n",
      "(289, 641)\n",
      "(685, 644)\n",
      "(245, 655)\n",
      "(260, 656)\n",
      "(289, 656)\n",
      "(685, 658)\n",
      "(245, 670)\n",
      "(260, 670)\n",
      "(289, 670)\n",
      "(685, 673)\n",
      "(546, 675)\n",
      "(245, 684)\n",
      "(260, 685)\n",
      "(289, 685)\n",
      "(656, 686)\n",
      "(685, 686)\n",
      "(685, 687)\n",
      "(546, 689)\n",
      "(575, 689)\n",
      "(245, 699)\n",
      "(289, 699)\n",
      "(656, 701)\n",
      "(685, 702)\n",
      "(575, 703)\n",
      "(546, 704)\n",
      "(590, 704)\n",
      "(656, 715)\n",
      "(685, 715)\n",
      "(685, 716)\n",
      "(417, 718)\n",
      "(575, 718)\n",
      "(656, 729)\n",
      "(685, 730)\n",
      "(685, 731)\n",
      "(309, 806)\n",
      "좌석 선택\n"
     ]
    }
   ],
   "source": [
    "\n",
    "seat_rPt = (0,0)\n",
    "for pt in zip(*loc[::-1]):  # Switch collumns and rows\n",
    "\n",
    "    print (pt)\n",
    "    pyautogui.moveTo(pt[0], pt[1])\n",
    "    seat_rPt = pt\n",
    "    sleep(0.5)\n",
    "    \n",
    "    #cv2.rectangle(img_seat, pt, (pt[0] + w, pt[1] + h), (0, 0, 255), 2)\n",
    "    #break\n",
    "# cv2.imwrite('result.png', img_seat)\n",
    "\n",
    "\n",
    "# x = seat_rPt[0] + 93\n",
    "# y = seat_rPt[1] + 223\n",
    "\n",
    "seat_rPt1 = (x,y)\n",
    "print(seat_rPt1)\n",
    "pyautogui.click(seat_rPt1)\n",
    "\n",
    "print('좌석 선택')\n",
    "\n",
    "\n"
   ]
  },
  {
   "cell_type": "code",
   "execution_count": null,
   "metadata": {},
   "outputs": [],
   "source": [
    "\n"
   ]
  },
  {
   "cell_type": "code",
   "execution_count": null,
   "metadata": {},
   "outputs": [],
   "source": []
  }
 ]
}